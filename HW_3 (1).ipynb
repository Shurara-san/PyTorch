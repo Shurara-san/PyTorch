{
  "nbformat": 4,
  "nbformat_minor": 0,
  "metadata": {
    "colab": {
      "name": "HW_3.ipynb",
      "provenance": [],
      "collapsed_sections": []
    },
    "kernelspec": {
      "name": "python3",
      "display_name": "Python 3"
    },
    "language_info": {
      "name": "python"
    }
  },
  "cells": [
    {
      "cell_type": "code",
      "execution_count": 1227,
      "metadata": {
        "id": "f0-6VlJjqNUI"
      },
      "outputs": [],
      "source": [
        "import math\n",
        "import torch\n",
        "import numpy as np\n",
        "from PIL import Image\n",
        "from torchvision import transforms, datasets\n",
        "import matplotlib.pyplot as plt\n",
        "import torch.nn.functional as F\n",
        "import torch.nn as nn\n",
        "import sklearn\n",
        "import sklearn.datasets\n",
        "from torch.functional import split\n",
        "from sklearn.model_selection import train_test_split\n",
        "import pandas as pd"
      ]
    },
    {
      "cell_type": "code",
      "source": [
        "#!pip install sklearn.datasets"
      ],
      "metadata": {
        "id": "gUYRZRxY4F_y"
      },
      "execution_count": 1228,
      "outputs": []
    },
    {
      "cell_type": "code",
      "source": [
        "from google.colab import drive\n",
        "drive.mount('/content/drive')"
      ],
      "metadata": {
        "colab": {
          "base_uri": "https://localhost:8080/"
        },
        "id": "n7I6JDdq1F-J",
        "outputId": "9a49ea03-645e-4680-8974-7e8fe4a76a23"
      },
      "execution_count": 1229,
      "outputs": [
        {
          "output_type": "stream",
          "name": "stdout",
          "text": [
            "Drive already mounted at /content/drive; to attempt to forcibly remount, call drive.mount(\"/content/drive\", force_remount=True).\n"
          ]
        }
      ]
    },
    {
      "cell_type": "code",
      "source": [
        "from sklearn.datasets import fetch_california_housing\n",
        "\n",
        "california_housing = fetch_california_housing(as_frame=True)"
      ],
      "metadata": {
        "id": "BdH7KNqkvQMq"
      },
      "execution_count": 1230,
      "outputs": []
    },
    {
      "cell_type": "code",
      "source": [
        "class MyOwnFCH(torch.utils.data.Dataset):\n",
        "   \n",
        "    def __init__(self, features, target, transform=None):\n",
        "        self.features = features\n",
        "        self.target = target\n",
        "        self.transform = transform\n",
        "\n",
        "    def __len__(self):\n",
        "        return len(self.features)\n",
        "\n",
        "    def __getitem__(self, idx):\n",
        "        features = self.features[idx]\n",
        "        target = self.target[idx]\n",
        "        return features, target"
      ],
      "metadata": {
        "id": "MHcJ3Aq4jhTu"
      },
      "execution_count": 1231,
      "outputs": []
    },
    {
      "cell_type": "code",
      "source": [
        "df_features = pd.DataFrame(california_housing.data)\n",
        "df_target = pd.DataFrame(california_housing.target)"
      ],
      "metadata": {
        "id": "s8xtBSoyTUFq"
      },
      "execution_count": 1232,
      "outputs": []
    },
    {
      "cell_type": "code",
      "source": [
        "# california_housing.target_names\n",
        "# california_housing.feature_names"
      ],
      "metadata": {
        "id": "i304XWoc76wM"
      },
      "execution_count": 1233,
      "outputs": []
    },
    {
      "cell_type": "code",
      "source": [
        "# for f in california_housing.feature_names:\n",
        "#   print(len(df_features[df_features[f].isna() == True]))\n",
        "# print(df_target[df_target['MedHouseVal'].isna() == True].count())"
      ],
      "metadata": {
        "id": "3FOh1vrn-IGE"
      },
      "execution_count": 1234,
      "outputs": []
    },
    {
      "cell_type": "code",
      "source": [
        "# df_target"
      ],
      "metadata": {
        "id": "gURykMO594UQ"
      },
      "execution_count": 1235,
      "outputs": []
    },
    {
      "cell_type": "code",
      "source": [
        "X_train, X_test, y_train, y_test = train_test_split(df_features, df_target, test_size=0.25, random_state=13)"
      ],
      "metadata": {
        "id": "1Yvw0588-Spd"
      },
      "execution_count": 1236,
      "outputs": []
    },
    {
      "cell_type": "code",
      "source": [
        "from torch.utils.data import DataLoader"
      ],
      "metadata": {
        "id": "9VqS0YetDT2c"
      },
      "execution_count": 1237,
      "outputs": []
    },
    {
      "cell_type": "code",
      "source": [
        "# X_train.values.astype(np.float32)"
      ],
      "metadata": {
        "id": "pN8RaGqSMBmV"
      },
      "execution_count": 1238,
      "outputs": []
    },
    {
      "cell_type": "code",
      "source": [
        "mo_fch_train = MyOwnFCH(X_train.values.astype(np.float32), y_train.values.astype(np.float32))\n",
        "mo_fch_test = MyOwnFCH(X_test.values.astype(np.float32), y_test.values.astype(np.float32))"
      ],
      "metadata": {
        "id": "vu_NOxGli8Em"
      },
      "execution_count": 1239,
      "outputs": []
    },
    {
      "cell_type": "code",
      "source": [
        "batch_size = 128\n",
        "\n",
        "mo_fch_train_loader = DataLoader(mo_fch_train, batch_size=batch_size,shuffle=False)\n",
        "mo_fch_test_loader = DataLoader(mo_fch_test, batch_size=batch_size,shuffle=False)"
      ],
      "metadata": {
        "id": "lEfUypiCr-5I"
      },
      "execution_count": 1240,
      "outputs": []
    },
    {
      "cell_type": "code",
      "source": [
        "mo_fch_train_loader"
      ],
      "metadata": {
        "colab": {
          "base_uri": "https://localhost:8080/"
        },
        "id": "1lsRENovEnoi",
        "outputId": "d5746aad-92d9-4d32-a167-4708805b73f4"
      },
      "execution_count": 1241,
      "outputs": [
        {
          "output_type": "execute_result",
          "data": {
            "text/plain": [
              "<torch.utils.data.dataloader.DataLoader at 0x7f6f3aa45910>"
            ]
          },
          "metadata": {},
          "execution_count": 1241
        }
      ]
    },
    {
      "cell_type": "code",
      "source": [
        "for x, l in mo_fch_train_loader:\n",
        "    print(x.shape)\n",
        "    print(l.shape)\n",
        "    print(l[0])\n",
        "    break"
      ],
      "metadata": {
        "colab": {
          "base_uri": "https://localhost:8080/"
        },
        "id": "NcCZO6dHFUfw",
        "outputId": "a54c23c8-5fc2-4aea-882c-8491f2e07a68"
      },
      "execution_count": 1242,
      "outputs": [
        {
          "output_type": "stream",
          "name": "stdout",
          "text": [
            "torch.Size([128, 8])\n",
            "torch.Size([128, 1])\n",
            "tensor([2.6800])\n"
          ]
        }
      ]
    },
    {
      "cell_type": "code",
      "source": [
        "for x, l in mo_fch_test_loader:\n",
        "    print(x.shape)\n",
        "    print(l.shape)\n",
        "    print(l[0])\n",
        "    break"
      ],
      "metadata": {
        "colab": {
          "base_uri": "https://localhost:8080/"
        },
        "id": "5wvQHzfexT48",
        "outputId": "289c619b-d452-40a3-f822-c65c1c7d6604"
      },
      "execution_count": 1243,
      "outputs": [
        {
          "output_type": "stream",
          "name": "stdout",
          "text": [
            "torch.Size([128, 8])\n",
            "torch.Size([128, 1])\n",
            "tensor([1.3010])\n"
          ]
        }
      ]
    },
    {
      "cell_type": "code",
      "source": [
        "# classes = ['0','1']"
      ],
      "metadata": {
        "id": "3OiFWukv4pm5"
      },
      "execution_count": 1244,
      "outputs": []
    },
    {
      "cell_type": "code",
      "source": [
        "class Net(nn.Module):\n",
        "    def __init__(self, input_dim, hidden_dim, output_dim=10):\n",
        "        super().__init__()\n",
        "        self.fc1 = nn.Linear(input_dim, 16 * hidden_dim)\n",
        "        # self.bn1 = nn.BatchNorm1d(16 * hidden_dim)\n",
        "        self.fc2 = nn.Linear(16 * hidden_dim, 8 * hidden_dim)\n",
        "        # self.bn2 = nn.BatchNorm1d(8 * hidden_dim)\n",
        "        self.fc3 = nn.Linear(8 * hidden_dim, 4 * hidden_dim)\n",
        "        # self.bn3 = nn.BatchNorm1d(4 * hidden_dim)\n",
        "        self.fc4 = nn.Linear(4 * hidden_dim, 2 * hidden_dim)\n",
        "        # self.bn4 = nn.BatchNorm1d(2 * hidden_dim)\n",
        "        self.fc5 = nn.Linear(2 * hidden_dim, hidden_dim)\n",
        "        self.bn5 = nn.BatchNorm1d(hidden_dim)\n",
        "        self.dp = nn.Dropout(0.25)\n",
        "        self.fc6 = nn.Linear(hidden_dim, output_dim)\n",
        "\n",
        "    def forward(self, x):\n",
        "        x = x.view(x.shape[0], -1)\n",
        "        x = self.fc1(x)\n",
        "        x = F.leaky_relu(x)\n",
        "        # x = self.bn1(x)\n",
        "        x = self.fc2(x)\n",
        "        x = F.leaky_relu(x)\n",
        "        # x = self.bn2(x)\n",
        "        x = self.fc3(x)\n",
        "        x = F.leaky_relu(x)\n",
        "        # x = self.bn3(x)\n",
        "        x = self.fc4(x)\n",
        "        x = F.leaky_relu(x)\n",
        "        # x = self.bn4(x)\n",
        "        x = self.fc5(x)\n",
        "        x = F.leaky_relu(x)\n",
        "        x = self.bn5(x)\n",
        "        # x = F.leaky_relu(x)\n",
        "        x = self.dp(x)\n",
        "        # x = F.leaky_relu(x)\n",
        "        x = self.fc6(x)\n",
        "        return x\n",
        "    \n",
        "    def predict(self, x):\n",
        "        x = x.view(x.shape[0], -1)\n",
        "        x = self.fc1(x)\n",
        "        x = F.leaky_relu(x)\n",
        "        # x = self.bn1(x)\n",
        "        x = self.fc2(x)\n",
        "        x = F.leaky_relu(x)\n",
        "        # x = self.bn2(x)\n",
        "        x = self.fc3(x)\n",
        "        x = F.leaky_relu(x)\n",
        "        # x = self.bn3(x)\n",
        "        x = self.fc4(x)\n",
        "        # x = F.softmax(x)\n",
        "        x = F.leaky_relu(x)\n",
        "        # x = self.bn4(x)\n",
        "        x = self.fc5(x)\n",
        "        x = F.leaky_relu(x)\n",
        "        x = self.bn5(x)\n",
        "        x = self.dp(x)\n",
        "        # x = F.leaky_relu(x)\n",
        "        x = self.fc6(x)\n",
        "        return x"
      ],
      "metadata": {
        "id": "zfxhFrF841mg"
      },
      "execution_count": 1245,
      "outputs": []
    },
    {
      "cell_type": "code",
      "source": [
        "net = Net(8,8)"
      ],
      "metadata": {
        "id": "015Td9yb6xls"
      },
      "execution_count": 1246,
      "outputs": []
    },
    {
      "cell_type": "code",
      "source": [
        "# optimizer = torch.optim.SGD(net.parameters(), lr=0.01)\n",
        "# optimizer = torch.optim.RMSprop(net.parameters(), lr=0.01)\n",
        "optimizer = torch.optim.Adam(net.parameters(), lr=0.01)\n",
        "criterion = nn.PoissonNLLLoss()"
      ],
      "metadata": {
        "id": "WKgEmt1B9u4D"
      },
      "execution_count": 1247,
      "outputs": []
    },
    {
      "cell_type": "code",
      "source": [
        "device = 'cuda' if torch.cuda.is_available() else 'cpu'\n",
        "# device = 'cpu'"
      ],
      "metadata": {
        "id": "jTuZF4kpB6KA"
      },
      "execution_count": 1248,
      "outputs": []
    },
    {
      "cell_type": "code",
      "source": [
        "epochs = 5\n",
        "model = net.to(device)\n",
        "model.train()\n",
        "# th = 0.5\n",
        "\n",
        "train_loss_history = []\n",
        "test_loss_history = []\n",
        "\n",
        "\n",
        "for epoch in range(epochs):  \n",
        "    running_items, running_right = 0.0, 0.0\n",
        "    for i, data in enumerate(mo_fch_train_loader, 0):\n",
        "        inputs, labels = data[0].to(device), data[1].to(device)\n",
        "        \n",
        "        # обнуляем градиент\n",
        "        optimizer.zero_grad()\n",
        "        outputs = model(inputs)\n",
        "        \n",
        "        loss = criterion(outputs, labels)\n",
        "        loss.backward()\n",
        "        optimizer.step()\n",
        "\n",
        "        # подсчет ошибки на обучении\n",
        "        loss = loss.item()\n",
        "        running_items += len(labels)\n",
        "        # подсчет метрики на обучении\n",
        "        pred_labels = torch.squeeze((outputs > th).int())\n",
        "        running_right += (labels == pred_labels).sum()\n",
        "        \n",
        "        # выводим статистику о процессе обучения\n",
        "        if i % 150 == 0:    # печатаем каждые 150 batches\n",
        "            model.eval()\n",
        "            \n",
        "            print(f'Epoch [{epoch + 1}/{epochs}]. ' \\\n",
        "                  f'Step [{i + 1}/{len(mo_fch_train_loader)}]. ' \\\n",
        "                  f'Loss: {loss:.3f}. ' \\\n",
        "                  f'Acc: {running_right / running_items:.3f}', end='. ')\n",
        "            running_loss, running_items, running_right = 0.0, 0.0, 0.0\n",
        "            train_loss_history.append(loss)\n",
        "\n",
        "            # выводим статистику на тестовых данных\n",
        "            test_running_right, test_running_total, test_loss = 0.0, 0.0, 0.0\n",
        "            for j, data in enumerate(mo_fch_test_loader):\n",
        "                test_labels = data[1].to(device)\n",
        "                test_outputs = model(data[0].to(device))\n",
        "                \n",
        "                # подсчет ошибки на тесте\n",
        "                test_loss = criterion(test_outputs, test_labels.float().view(-1, 1))\n",
        "                # подсчет метрики на тесте\n",
        "                test_running_total += len(data[1])\n",
        "                pred_test_labels = torch.squeeze((test_outputs > th).int())\n",
        "                test_running_right += (test_labels == pred_test_labels).sum()\n",
        "            \n",
        "            test_loss_history.append(test_loss.item())\n",
        "            print(f'Test loss: {test_loss:.3f}. Test acc: {test_running_right / test_running_total:.3f}')\n",
        "        \n",
        "        model.train()\n",
        "        \n",
        "print('Training is finished!')"
      ],
      "metadata": {
        "colab": {
          "base_uri": "https://localhost:8080/"
        },
        "id": "3rwnAq_m91EB",
        "outputId": "48f843df-b0ec-4698-8633-3271198e8cc7"
      },
      "execution_count": 1249,
      "outputs": [
        {
          "output_type": "stream",
          "name": "stdout",
          "text": [
            "Epoch [1/5]. Step [1/121]. Loss: 4.387. Acc: 0.000. Test loss: 2290.250. Test acc: 0.014\n",
            "Epoch [2/5]. Step [1/121]. Loss: 0.558. Acc: 0.000. Test loss: 0.668. Test acc: 0.037\n",
            "Epoch [3/5]. Step [1/121]. Loss: 0.548. Acc: 0.000. Test loss: 0.677. Test acc: 0.037\n",
            "Epoch [4/5]. Step [1/121]. Loss: 0.537. Acc: 0.000. Test loss: 0.682. Test acc: 0.037\n",
            "Epoch [5/5]. Step [1/121]. Loss: 0.536. Acc: 0.000. Test loss: 0.678. Test acc: 0.037\n",
            "Training is finished!\n"
          ]
        }
      ]
    },
    {
      "cell_type": "markdown",
      "source": [
        "# Вывод\n",
        "\n",
        "Результат очень сильно зависел от параметра batch_size, почти все значения loss.item уходили в NaN. Лучше всех с подсчётом точности справилась функция PoissonNLLLoss(), из тех, что походили по смыслу. \n",
        "\n",
        "Честно говоря, не поняла, почему у меня настолько не получилось обработать данные :( Вроде, никаких выбросов или NaN значений в самих данных не было, как и ненормально больших значений (прочитала, что это один из вариантов, почему loss functions могут принимать неопределённые или бесконечные значения). \n",
        "  \n",
        "  Относительно лучшим оптимизатором оказался Adam. Без BatchNorm и Dropout слоёв результаты заметно ухудшались и потери всегда считались NaNами"
      ],
      "metadata": {
        "id": "Iq2NpjXuCXQP"
      }
    }
  ]
}